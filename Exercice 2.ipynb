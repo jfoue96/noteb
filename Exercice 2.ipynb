{
 "cells": [
  {
   "cell_type": "markdown",
   "metadata": {},
   "source": [
    "# Module 04 - Répétitions\n",
    "Ces exercices ont pour objectifs :\n",
    "+ de choisir le bon type de répétitions\n",
    "+ de renforcer les notions de types de variables, de l'importance des noms"
   ]
  },
  {
   "cell_type": "markdown",
   "metadata": {},
   "source": [
    "## Exercice 2 - n carrés des nombres\n",
    "Demandez à l’utilisateur la quantité de nombres qu’il a à saisir. Ensuite, vous lui demanderez de saisir chacun de ces nombres et vous l’afficherez au carré.\n",
    "\n",
    "1. Faites ce programme avec un POUR ... DE ... À\n",
    "2. Faites ce programme avec un TANT QUE ... FAIRE\n",
    "3. Lequel des deux algorithmes semble le plus adapté ?\n",
    "4. Que se passe-t-il si l'utilisateur saisit un nombre négatif comme quantité ?"
   ]
  },
  {
   "cell_type": "code",
   "execution_count": null,
   "metadata": {},
   "outputs": [],
   "source": []
  }
 ],
 "metadata": {
  "kernelspec": {
   "display_name": ".NET (C#)",
   "language": "C#",
   "name": ".net-csharp"
  },
  "language_info": {
   "file_extension": ".cs",
   "mimetype": "text/x-csharp",
   "name": "C#",
   "pygments_lexer": "csharp",
   "version": "8.0"
  }
 },
 "nbformat": 4,
 "nbformat_minor": 4
}
