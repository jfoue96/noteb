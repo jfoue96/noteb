{
 "cells": [
  {
   "cell_type": "markdown",
   "metadata": {},
   "source": [
    "# Module 04 - Répétitions\n",
    "Ces exercices ont pour objectifs :\n",
    "+ de choisir le bon type de répétitions\n",
    "+ de renforcer les notions de types de variables, de l'importance des noms"
   ]
  },
  {
   "cell_type": "markdown",
   "metadata": {},
   "source": [
    "## Exercice 3 - Total porte-monnaie\n",
    "\n",
    "Vous devez faire l’algorithme et le code pour un programme servant à calculer la monnaie qu’une personne a dans son porte-monnaie.\n",
    "\n",
    "Vous devez demander à l’utilisateur de vous fournir la valeur de chaque pièce qu’il a. Le programme se terminera lorsque l’utilisateur fournira la valeur zéro. Voici un exemple :"
   ]
  },
  {
   "cell_type": "code",
   "execution_count": 3,
   "metadata": {},
   "outputs": [
    {
     "ename": "Unhandled Exception",
     "evalue": "(1,1): error CS1024: Directive de préprocesseur attendue\r\n(2,11): error CS1002: ; attendu\r\n(2,19): error CS1056: Caractère inattendu '’'\r\n(2,20): error CS1002: ; attendu\r\n(2,30): error CS1002: ; attendu\r\n(2,41): error CS1001: Identificateur attendu\r\n(2,59): error CS1018: Mot clé 'this' ou 'base' attendu\r\n(2,59): error CS1002: ; attendu\r\n(2,63): error CS1002: ; attendu\r\n(3,11): error CS1002: ; attendu\r\n(3,19): error CS1056: Caractère inattendu '’'\r\n(3,20): error CS1002: ; attendu\r\n(3,30): error CS1002: ; attendu\r\n(3,41): error CS1001: Identificateur attendu\r\n(3,59): error CS1018: Mot clé 'this' ou 'base' attendu\r\n(3,59): error CS1002: ; attendu\r\n(3,63): error CS1002: ; attendu\r\n(4,11): error CS1002: ; attendu\r\n(4,19): error CS1056: Caractère inattendu '’'\r\n(4,20): error CS1002: ; attendu\r\n(4,30): error CS1002: ; attendu\r\n(4,41): error CS1001: Identificateur attendu\r\n(4,59): error CS1018: Mot clé 'this' ou 'base' attendu\r\n(4,59): error CS1002: ; attendu\r\n(4,63): error CS1002: ; attendu\r\n(5,11): error CS1002: ; attendu\r\n(5,19): error CS1056: Caractère inattendu '’'\r\n(5,20): error CS1002: ; attendu\r\n(5,30): error CS1002: ; attendu\r\n(5,41): error CS1001: Identificateur attendu\r\n(5,59): error CS1018: Mot clé 'this' ou 'base' attendu\r\n(5,59): error CS1002: ; attendu\r\n(5,63): error CS1002: ; attendu\r\n(6,11): error CS1002: ; attendu\r\n(6,19): error CS1056: Caractère inattendu '’'\r\n(6,20): error CS1002: ; attendu\r\n(6,30): error CS1002: ; attendu\r\n(6,41): error CS1001: Identificateur attendu\r\n(6,59): error CS1018: Mot clé 'this' ou 'base' attendu\r\n(6,59): error CS1002: ; attendu\r\n(6,63): error CS1002: ; attendu\r\n(7,11): error CS1002: ; attendu\r\n(7,19): error CS1056: Caractère inattendu '’'\r\n(7,20): error CS1002: ; attendu\r\n(7,30): error CS1002: ; attendu\r\n(7,41): error CS1001: Identificateur attendu\r\n(7,59): error CS1018: Mot clé 'this' ou 'base' attendu\r\n(7,59): error CS1002: ; attendu\r\n(7,63): error CS1002: ; attendu\r\n(8,11): error CS1002: ; attendu\r\n(8,19): error CS1056: Caractère inattendu '’'\r\n(8,20): error CS1002: ; attendu\r\n(8,30): error CS1002: ; attendu\r\n(8,41): error CS1001: Identificateur attendu\r\n(8,59): error CS1018: Mot clé 'this' ou 'base' attendu\r\n(8,59): error CS1002: ; attendu\r\n(8,60): error CS1002: ; attendu\r\n(10,11): error CS1002: ; attendu\r\n(10,22): error CS1003: Erreur de syntaxe, ',' attendu\r\n(10,24): error CS1002: ; attendu\r\n(10,29): error CS1002: ; attendu\r\n(10,29): error CS1056: Caractère inattendu '$'\r\n(10,30): error CS7017: Définition de membre, instruction ou fin de fichier attendu",
     "output_type": "error",
     "traceback": [
      "(1,1): error CS1024: Directive de préprocesseur attendue\r\n(2,11): error CS1002: ; attendu\r\n(2,19): error CS1056: Caractère inattendu '’'\r\n(2,20): error CS1002: ; attendu\r\n(2,30): error CS1002: ; attendu\r\n(2,41): error CS1001: Identificateur attendu\r\n(2,59): error CS1018: Mot clé 'this' ou 'base' attendu\r\n(2,59): error CS1002: ; attendu\r\n(2,63): error CS1002: ; attendu\r\n(3,11): error CS1002: ; attendu\r\n(3,19): error CS1056: Caractère inattendu '’'\r\n(3,20): error CS1002: ; attendu\r\n(3,30): error CS1002: ; attendu\r\n(3,41): error CS1001: Identificateur attendu\r\n(3,59): error CS1018: Mot clé 'this' ou 'base' attendu\r\n(3,59): error CS1002: ; attendu\r\n(3,63): error CS1002: ; attendu\r\n(4,11): error CS1002: ; attendu\r\n(4,19): error CS1056: Caractère inattendu '’'\r\n(4,20): error CS1002: ; attendu\r\n(4,30): error CS1002: ; attendu\r\n(4,41): error CS1001: Identificateur attendu\r\n(4,59): error CS1018: Mot clé 'this' ou 'base' attendu\r\n(4,59): error CS1002: ; attendu\r\n(4,63): error CS1002: ; attendu\r\n(5,11): error CS1002: ; attendu\r\n(5,19): error CS1056: Caractère inattendu '’'\r\n(5,20): error CS1002: ; attendu\r\n(5,30): error CS1002: ; attendu\r\n(5,41): error CS1001: Identificateur attendu\r\n(5,59): error CS1018: Mot clé 'this' ou 'base' attendu\r\n(5,59): error CS1002: ; attendu\r\n(5,63): error CS1002: ; attendu\r\n(6,11): error CS1002: ; attendu\r\n(6,19): error CS1056: Caractère inattendu '’'\r\n(6,20): error CS1002: ; attendu\r\n(6,30): error CS1002: ; attendu\r\n(6,41): error CS1001: Identificateur attendu\r\n(6,59): error CS1018: Mot clé 'this' ou 'base' attendu\r\n(6,59): error CS1002: ; attendu\r\n(6,63): error CS1002: ; attendu\r\n(7,11): error CS1002: ; attendu\r\n(7,19): error CS1056: Caractère inattendu '’'\r\n(7,20): error CS1002: ; attendu\r\n(7,30): error CS1002: ; attendu\r\n(7,41): error CS1001: Identificateur attendu\r\n(7,59): error CS1018: Mot clé 'this' ou 'base' attendu\r\n(7,59): error CS1002: ; attendu\r\n(7,63): error CS1002: ; attendu\r\n(8,11): error CS1002: ; attendu\r\n(8,19): error CS1056: Caractère inattendu '’'\r\n(8,20): error CS1002: ; attendu\r\n(8,30): error CS1002: ; attendu\r\n(8,41): error CS1001: Identificateur attendu\r\n(8,59): error CS1018: Mot clé 'this' ou 'base' attendu\r\n(8,59): error CS1002: ; attendu\r\n(8,60): error CS1002: ; attendu\r\n(10,11): error CS1002: ; attendu\r\n(10,22): error CS1003: Erreur de syntaxe, ',' attendu\r\n(10,24): error CS1002: ; attendu\r\n(10,29): error CS1002: ; attendu\r\n(10,29): error CS1056: Caractère inattendu '$'\r\n(10,30): error CS7017: Définition de membre, instruction ou fin de fichier attendu"
     ]
    }
   ],
   "source": [
    "### Calcul de la monnaie ###\n",
    "Entrez la valeur d’une pièce en dollar (0 pour arrêter) : 0.25\n",
    "Entrez la valeur d’une pièce en dollar (0 pour arrêter) : 0.25\n",
    "Entrez la valeur d’une pièce en dollar (0 pour arrêter) : 0.25\n",
    "Entrez la valeur d’une pièce en dollar (0 pour arrêter) : 0.25\n",
    "Entrez la valeur d’une pièce en dollar (0 pour arrêter) : 0.10\n",
    "Entrez la valeur d’une pièce en dollar (0 pour arrêter) : 0.05\n",
    "Entrez la valeur d’une pièce en dollar (0 pour arrêter) : 0\n",
    "\n",
    "La valeur totale est : 1.15 $."
   ]
  },
  {
   "cell_type": "code",
   "execution_count": 1,
   "metadata": {},
   "outputs": [
    {
     "ename": "Unhandled Exception",
     "evalue": "(1,1): error CS1024: Directive de préprocesseur attendue",
     "output_type": "error",
     "traceback": [
      "(1,1): error CS1024: Directive de préprocesseur attendue"
     ]
    }
   ],
   "source": [
    "##Codez ici"
   ]
  },
  {
   "cell_type": "code",
   "execution_count": null,
   "metadata": {},
   "outputs": [],
   "source": []
  }
 ],
 "metadata": {
  "kernelspec": {
   "display_name": ".NET (C#)",
   "language": "C#",
   "name": ".net-csharp"
  },
  "language_info": {
   "file_extension": ".cs",
   "mimetype": "text/x-csharp",
   "name": "C#",
   "pygments_lexer": "csharp",
   "version": "8.0"
  }
 },
 "nbformat": 4,
 "nbformat_minor": 4
}
