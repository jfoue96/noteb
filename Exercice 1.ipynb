{
 "cells": [
  {
   "cell_type": "markdown",
   "metadata": {},
   "source": [
    "# Module 04 - Répétitions\n",
    "Ces exercices ont pour objectifs :\n",
    "+ de choisir le bon type de répétitions\n",
    "+ de renforcer les notions de types de variables, de l'importance des noms"
   ]
  },
  {
   "cell_type": "markdown",
   "metadata": {},
   "source": [
    "## Exercice 1 - Carrés des nombres\n",
    "\n",
    "Donnez l’algorithme puis le code qui lit un nombre et qui l’affiche au carré. Cet algorithm doit se répéter tant que l’utilisateur vous donne une valeur strictement positive. Dès qu’il donnera zéro ou un négatif, le programme doit s’arrêter."
   ]
  },
  {
   "cell_type": "code",
   "execution_count": 1,
   "metadata": {},
   "outputs": [
    {
     "name": "stdout",
     "output_type": "stream",
     "text": [
      "3\r\n"
     ]
    }
   ],
   "source": [
    "Console.WriteLine(3)"
   ]
  },
  {
   "cell_type": "code",
   "execution_count": null,
   "metadata": {},
   "outputs": [],
   "source": []
  }
 ],
 "metadata": {
  "kernelspec": {
   "display_name": ".NET (C#)",
   "language": "C#",
   "name": ".net-csharp"
  },
  "language_info": {
   "file_extension": ".cs",
   "mimetype": "text/x-csharp",
   "name": "C#",
   "pygments_lexer": "csharp",
   "version": "8.0"
  }
 },
 "nbformat": 4,
 "nbformat_minor": 4
}
