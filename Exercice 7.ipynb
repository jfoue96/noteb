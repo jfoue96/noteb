{
 "cells": [
  {
   "cell_type": "markdown",
   "metadata": {},
   "source": [
    "## Module 04 - Répétitions\n",
    "Ces exercices ont pour objectifs :\n",
    "\n",
    "+ de choisir le bon type de répétitions\n",
    "+ de renforcer les notions de types de variables, de l'importance des noms"
   ]
  },
  {
   "cell_type": "markdown",
   "metadata": {},
   "source": [
    "## Exercice 7 - Somme d'une suite de nombres\n",
    "Écrire un algorithme et le code pour calculer et afficher la somme de la suite dont les valeurs de départ et d’arrêt sont fixées par l’utilisateur (en lecture)."
   ]
  },
  {
   "cell_type": "code",
   "execution_count": null,
   "metadata": {},
   "outputs": [],
   "source": [
    "/* Codez ici */"
   ]
  }
 ],
 "metadata": {
  "kernelspec": {
   "display_name": ".NET (C#)",
   "language": "C#",
   "name": ".net-csharp"
  },
  "language_info": {
   "file_extension": ".cs",
   "mimetype": "text/x-csharp",
   "name": "C#",
   "pygments_lexer": "csharp",
   "version": "8.0"
  }
 },
 "nbformat": 4,
 "nbformat_minor": 4
}
